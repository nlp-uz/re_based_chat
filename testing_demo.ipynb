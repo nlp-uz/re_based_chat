{
 "cells": [
  {
   "cell_type": "code",
   "execution_count": 1,
   "metadata": {},
   "outputs": [],
   "source": [
    "import re"
   ]
  },
  {
   "cell_type": "code",
   "execution_count": null,
   "metadata": {},
   "outputs": [],
   "source": [
    "pairs = (\n",
    "    (\n",
    "        r\"M[ea]nga (.*) kerak (.*) \",\n",
    "        #manga noutbook,  kerak, chunki men o'qiyman\n",
    "        #menga noutbook kerak\n",
    "        (\n",
    "            \" %1? Nimaga kerak? %2 sizga zailmi?\",\n",
    "            \"Manimcha shu %1? sizga hozirgi vaqtda zaril emasdir\",\n",
    "            \"Aniq shu %1 kerakmi?\",\n",
    "        ),\n",
    "    ),\n",
    "\n",
    "    (\n",
    "        r\"isming (.*)\",\n",
    "        (\n",
    "            \"Salom, mening ismim Eliza\",\n",
    "\n",
    "        ),\n",
    "        \n",
    "    )\n",
    ")"
   ]
  },
  {
   "cell_type": "code",
   "execution_count": 2,
   "metadata": {},
   "outputs": [],
   "source": [
    "self._pairs = [(re.compile(x, re.IGNORECASE), y) for (x, y) in pairs]"
   ]
  },
  {
   "cell_type": "code",
   "execution_count": 4,
   "metadata": {},
   "outputs": [
    {
     "name": "stdout",
     "output_type": "stream",
     "text": [
      "M[ea]nga (.*) kerak (.*) \n",
      "(' %1? Nimaga kerak? %2 sizga zailmi?', 'Manimcha shu %1? sizga hozirgi vaqtda zaril emasdir', 'Aniq shu %1 kerakmi?')\n",
      "\n",
      "isming (.*)\n",
      "('Salom, mening ismim Eliza',)\n",
      "\n"
     ]
    }
   ],
   "source": [
    "for (x, y) in pairs:\n",
    "    print(x)\n",
    "    print(y)  \n",
    "    print(\"\")"
   ]
  },
  {
   "cell_type": "code",
   "execution_count": 6,
   "metadata": {},
   "outputs": [
    {
     "data": {
      "text/plain": [
       "[(re.compile(r'M[ea]nga (.*) kerak (.*) ', re.IGNORECASE|re.UNICODE),\n",
       "  (' %1? Nimaga kerak? %2 sizga zailmi?',\n",
       "   'Manimcha shu %1? sizga hozirgi vaqtda zaril emasdir',\n",
       "   'Aniq shu %1 kerakmi?')),\n",
       " (re.compile(r'isming (.*)', re.IGNORECASE|re.UNICODE),\n",
       "  ('Salom, mening ismim Eliza',))]"
      ]
     },
     "execution_count": 6,
     "metadata": {},
     "output_type": "execute_result"
    }
   ],
   "source": [
    "_pairs"
   ]
  },
  {
   "attachments": {},
   "cell_type": "markdown",
   "metadata": {},
   "source": [
    "### re.compile()"
   ]
  },
  {
   "cell_type": "code",
   "execution_count": 13,
   "metadata": {},
   "outputs": [],
   "source": [
    "text = 'Hello bob this is test'"
   ]
  },
  {
   "cell_type": "code",
   "execution_count": 14,
   "metadata": {},
   "outputs": [
    {
     "data": {
      "text/plain": [
       "<re.Match object; span=(5, 10), match=' bob '>"
      ]
     },
     "execution_count": 14,
     "metadata": {},
     "output_type": "execute_result"
    }
   ],
   "source": [
    "re.search(r'( ... )' , text)"
   ]
  },
  {
   "cell_type": "code",
   "execution_count": 15,
   "metadata": {},
   "outputs": [],
   "source": [
    "text_2 = 'hello mom this is test'"
   ]
  },
  {
   "cell_type": "code",
   "execution_count": 16,
   "metadata": {},
   "outputs": [
    {
     "data": {
      "text/plain": [
       "<re.Match object; span=(5, 10), match=' mom '>"
      ]
     },
     "execution_count": 16,
     "metadata": {},
     "output_type": "execute_result"
    }
   ],
   "source": [
    "re.search(r'( ... )' , text_2)"
   ]
  },
  {
   "cell_type": "code",
   "execution_count": 17,
   "metadata": {},
   "outputs": [],
   "source": [
    "three_char = re.compile(r'( ... )')"
   ]
  },
  {
   "cell_type": "code",
   "execution_count": 18,
   "metadata": {},
   "outputs": [
    {
     "data": {
      "text/plain": [
       "<re.Match object; span=(5, 10), match=' bob '>"
      ]
     },
     "execution_count": 18,
     "metadata": {},
     "output_type": "execute_result"
    }
   ],
   "source": [
    "three_char.search(text)"
   ]
  },
  {
   "cell_type": "code",
   "execution_count": 19,
   "metadata": {},
   "outputs": [
    {
     "data": {
      "text/plain": [
       "<re.Match object; span=(5, 10), match=' mom '>"
      ]
     },
     "execution_count": 19,
     "metadata": {},
     "output_type": "execute_result"
    }
   ],
   "source": [
    "three_char.search(text_2)"
   ]
  }
 ],
 "metadata": {
  "kernelspec": {
   "display_name": "base",
   "language": "python",
   "name": "python3"
  },
  "language_info": {
   "codemirror_mode": {
    "name": "ipython",
    "version": 3
   },
   "file_extension": ".py",
   "mimetype": "text/x-python",
   "name": "python",
   "nbconvert_exporter": "python",
   "pygments_lexer": "ipython3",
   "version": "3.9.13"
  },
  "orig_nbformat": 4
 },
 "nbformat": 4,
 "nbformat_minor": 2
}
